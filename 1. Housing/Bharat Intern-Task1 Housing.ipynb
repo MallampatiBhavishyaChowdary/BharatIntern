{
 "cells": [
  {
   "cell_type": "code",
   "execution_count": null,
   "id": "d6b76147",
   "metadata": {},
   "outputs": [],
   "source": [
    "import pandas as pd\n",
    "import numpy as np\n",
    "import matplotlib.pyplot as plt\n",
    "import seaborn as sns"
   ]
  },
  {
   "cell_type": "markdown",
   "id": "98a4be43",
   "metadata": {},
   "source": [
    "# Importing Housing Dataset:"
   ]
  },
  {
   "cell_type": "code",
   "execution_count": null,
   "id": "2ae05bea",
   "metadata": {},
   "outputs": [],
   "source": [
    "df = pd.read_csv(r\"C:\\Users\\Mallampati Bhavishya\\Desktop\\Housing.csv\")"
   ]
  },
  {
   "cell_type": "code",
   "execution_count": null,
   "id": "cd5e4fe6",
   "metadata": {},
   "outputs": [],
   "source": [
    "# FIRST 10 ROWS OF THE DATASET\n",
    "\n",
    "df.head(10)"
   ]
  },
  {
   "cell_type": "code",
   "execution_count": null,
   "id": "bfa6190a",
   "metadata": {},
   "outputs": [],
   "source": [
    "# COLUMNS :\n",
    "\n",
    "df.columns"
   ]
  },
  {
   "cell_type": "code",
   "execution_count": null,
   "id": "0f1a267e",
   "metadata": {},
   "outputs": [],
   "source": [
    "# SIZE OF THE DATASET \n",
    "\n",
    "df.shape"
   ]
  },
  {
   "cell_type": "markdown",
   "id": "7de35d2a",
   "metadata": {},
   "source": [
    "#### As we can see our dataset has 545 rows and 13 columns."
   ]
  },
  {
   "cell_type": "code",
   "execution_count": null,
   "id": "704b3078",
   "metadata": {},
   "outputs": [],
   "source": [
    "# DATA TYPES OF THE COLUMNS OF THE DATASET\n",
    "\n",
    "df.info()"
   ]
  },
  {
   "cell_type": "markdown",
   "id": "e0c974db",
   "metadata": {},
   "source": [
    "# Data Preprocessing :"
   ]
  },
  {
   "cell_type": "code",
   "execution_count": null,
   "id": "d09b91a1",
   "metadata": {},
   "outputs": [],
   "source": [
    "# CHECKING FOR NULL VALUES\n",
    "\n",
    "df.isnull().sum()"
   ]
  },
  {
   "cell_type": "code",
   "execution_count": null,
   "id": "f6bb3715",
   "metadata": {},
   "outputs": [],
   "source": [
    "# REMOVAL OF DUPLICATE VALUE \n",
    "\n",
    "counter = 0\n",
    "rs,cs = df.shape\n",
    "\n",
    "df.drop_duplicates(inplace=True)\n",
    "\n",
    "if df.shape==(rs,cs):\n",
    "    print('\\n\\033[1mInference:\\033[0m The dataset doesn\\'t have any duplicates')\n",
    "else:\n",
    "    print(f'\\n\\033[1mInference:\\033[0m Number of duplicates dropped/fixed ---> {rs-df.shape[0]}')"
   ]
  },
  {
   "cell_type": "markdown",
   "id": "5c7d73f2",
   "metadata": {},
   "source": [
    "#### No null values present our dataset."
   ]
  },
  {
   "cell_type": "code",
   "execution_count": null,
   "id": "a2060960",
   "metadata": {},
   "outputs": [],
   "source": [
    "# CONVERTING ALL OUR CATEGORICAL DATA COLUMNS TO NUMERIC FORM\n",
    "\n",
    "from sklearn.preprocessing import LabelEncoder\n",
    "categ = [\"mainroad\",\"guestroom\",\"basement\",\"hotwaterheating\",\"airconditioning\",\"prefarea\",\"furnishingstatus\"]\n",
    "\n",
    "# Encode Categorical Columns\n",
    "le = LabelEncoder()\n",
    "df[categ] = df[categ].apply(le.fit_transform)"
   ]
  },
  {
   "cell_type": "code",
   "execution_count": null,
   "id": "03584d38",
   "metadata": {},
   "outputs": [],
   "source": [
    "# AFTER CONVERTING OUR DATASET LOOKS LIKE THIS ...\n",
    "\n",
    "df.head()"
   ]
  },
  {
   "cell_type": "code",
   "execution_count": null,
   "id": "00dc06f3",
   "metadata": {},
   "outputs": [],
   "source": [
    "# CORRELATION BETWEEN THE COLUMNS\n",
    "\n",
    "corr = df.corr()\n",
    "plt.figure(figsize=(12,7))\n",
    "sns.heatmap(corr,cmap='coolwarm',annot=True)"
   ]
  },
  {
   "cell_type": "markdown",
   "id": "f96e88ee",
   "metadata": {},
   "source": [
    "## Spliting The Dataset :"
   ]
  },
  {
   "cell_type": "code",
   "execution_count": null,
   "id": "45dd9e2c",
   "metadata": {},
   "outputs": [],
   "source": [
    "X = df.drop(['price'],axis=1)\n",
    "y = df['price']"
   ]
  },
  {
   "cell_type": "code",
   "execution_count": null,
   "id": "a3b9cc24",
   "metadata": {},
   "outputs": [],
   "source": [
    "X"
   ]
  },
  {
   "cell_type": "code",
   "execution_count": null,
   "id": "e6953c76",
   "metadata": {},
   "outputs": [],
   "source": [
    "y"
   ]
  },
  {
   "cell_type": "code",
   "execution_count": null,
   "id": "2c778c8e",
   "metadata": {},
   "outputs": [],
   "source": [
    "from sklearn.model_selection import train_test_split\n",
    "X_train,X_test,y_train,y_test = train_test_split(X,y,test_size=0.3,random_state=42)"
   ]
  },
  {
   "cell_type": "code",
   "execution_count": null,
   "id": "f9b9e26c",
   "metadata": {},
   "outputs": [],
   "source": [
    "# LENGTH OF X_train AND X_test\n",
    "\n",
    "len(X_train),len(X_test)"
   ]
  },
  {
   "cell_type": "markdown",
   "id": "bd0805b5",
   "metadata": {},
   "source": [
    "## Linear Regression :"
   ]
  },
  {
   "cell_type": "code",
   "execution_count": null,
   "id": "723917da",
   "metadata": {},
   "outputs": [],
   "source": [
    "# IMPORTING THE MODULE\n",
    "\n",
    "from sklearn.linear_model import LinearRegression\n",
    "model = LinearRegression()"
   ]
  },
  {
   "cell_type": "code",
   "execution_count": null,
   "id": "479cf5f2",
   "metadata": {},
   "outputs": [],
   "source": [
    "# FITTING THE DATA INTO THE MODEL\n",
    "\n",
    "model.fit(X_train,y_train)"
   ]
  },
  {
   "cell_type": "code",
   "execution_count": null,
   "id": "210cd442",
   "metadata": {},
   "outputs": [],
   "source": [
    "# PREDICTING THE OUTCOMES\n",
    "\n",
    "y_predict = model.predict(X_test)"
   ]
  },
  {
   "cell_type": "code",
   "execution_count": null,
   "id": "37e98bd0",
   "metadata": {},
   "outputs": [],
   "source": [
    "y_predict"
   ]
  },
  {
   "cell_type": "markdown",
   "id": "ad6f9603",
   "metadata": {},
   "source": [
    "## Evaluation :"
   ]
  },
  {
   "cell_type": "code",
   "execution_count": null,
   "id": "a2d7ce44",
   "metadata": {},
   "outputs": [],
   "source": [
    "from sklearn.metrics import r2_score,mean_absolute_error\n",
    "score = r2_score(y_test,y_predict)\n",
    "mae = mean_absolute_error(y_test,y_predict)"
   ]
  },
  {
   "cell_type": "code",
   "execution_count": null,
   "id": "589ae489",
   "metadata": {},
   "outputs": [],
   "source": [
    "score"
   ]
  },
  {
   "cell_type": "code",
   "execution_count": null,
   "id": "81af0acc",
   "metadata": {},
   "outputs": [],
   "source": [
    "mae"
   ]
  }
 ],
 "metadata": {
  "kernelspec": {
   "display_name": "Python 3 (ipykernel)",
   "language": "python",
   "name": "python3"
  },
  "language_info": {
   "codemirror_mode": {
    "name": "ipython",
    "version": 3
   },
   "file_extension": ".py",
   "mimetype": "text/x-python",
   "name": "python",
   "nbconvert_exporter": "python",
   "pygments_lexer": "ipython3",
   "version": "3.9.13"
  }
 },
 "nbformat": 4,
 "nbformat_minor": 5
}
